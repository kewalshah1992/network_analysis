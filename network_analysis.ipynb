{
 "cells": [
  {
   "cell_type": "code",
   "execution_count": 1,
   "metadata": {},
   "outputs": [],
   "source": [
    "import pandas as pd\n",
    "import numpy as np\n",
    "import seaborn as sns\n",
    "import matplotlib.pyplot as plt\n",
    "%matplotlib inline\n",
    "trans_data = pd.read_csv(r'data.csv', index_col = 0)"
   ]
  },
  {
   "cell_type": "code",
   "execution_count": 2,
   "metadata": {},
   "outputs": [],
   "source": [
    "trans_data = trans_data.rename(columns={'Semana':'week', 'Agencia_ID': 'agency', 'Canal_ID':'channel', 'Ruta_SAK':'route',\n",
    "                  'Cliente_ID':'client', 'Producto_ID':'product', 'Venta_uni_hoy':'sale_units', 'Venta_hoy':'sale_value',\n",
    "                  'Dev_uni_proxima':'return_units', 'Dev_proxima':'return_value'})"
   ]
  },
  {
   "cell_type": "code",
   "execution_count": 3,
   "metadata": {},
   "outputs": [
    {
     "name": "stdout",
     "output_type": "stream",
     "text": [
      "week, int64\n",
      "agency, int64\n",
      "channel, int64\n",
      "route, int64\n",
      "client, int64\n",
      "product, int64\n",
      "sale_units, int64\n",
      "sale_value, float64\n",
      "return_units, int64\n",
      "return_value, float64\n"
     ]
    }
   ],
   "source": [
    "#lets check the data type of the our columns\n",
    "for column in trans_data.columns:\n",
    "    print ('{}, {}'.format(column, trans_data[column].dtype))"
   ]
  },
  {
   "cell_type": "code",
   "execution_count": 4,
   "metadata": {},
   "outputs": [],
   "source": [
    "# now we change the data types for columns associated with IDs - week, agency, channel, route, client, product\n",
    "id_columns = ['week', 'agency', 'channel', 'route', 'client', 'product']\n",
    "for id_column in id_columns:\n",
    "    trans_data[id_column] = trans_data[id_column].astype(str)"
   ]
  },
  {
   "cell_type": "code",
   "execution_count": 5,
   "metadata": {
    "scrolled": false
   },
   "outputs": [
    {
     "data": {
      "text/html": [
       "<div>\n",
       "<style scoped>\n",
       "    .dataframe tbody tr th:only-of-type {\n",
       "        vertical-align: middle;\n",
       "    }\n",
       "\n",
       "    .dataframe tbody tr th {\n",
       "        vertical-align: top;\n",
       "    }\n",
       "\n",
       "    .dataframe thead th {\n",
       "        text-align: right;\n",
       "    }\n",
       "</style>\n",
       "<table border=\"1\" class=\"dataframe\">\n",
       "  <thead>\n",
       "    <tr style=\"text-align: right;\">\n",
       "      <th></th>\n",
       "      <th>week</th>\n",
       "      <th>agency</th>\n",
       "      <th>channel</th>\n",
       "      <th>route</th>\n",
       "      <th>client</th>\n",
       "      <th>product</th>\n",
       "      <th>sale_units</th>\n",
       "      <th>sale_value</th>\n",
       "      <th>return_units</th>\n",
       "      <th>return_value</th>\n",
       "    </tr>\n",
       "  </thead>\n",
       "  <tbody>\n",
       "    <tr>\n",
       "      <th>0</th>\n",
       "      <td>3</td>\n",
       "      <td>1111</td>\n",
       "      <td>1</td>\n",
       "      <td>1001</td>\n",
       "      <td>50827</td>\n",
       "      <td>73</td>\n",
       "      <td>6</td>\n",
       "      <td>127.92</td>\n",
       "      <td>0</td>\n",
       "      <td>0.0</td>\n",
       "    </tr>\n",
       "    <tr>\n",
       "      <th>1</th>\n",
       "      <td>3</td>\n",
       "      <td>1111</td>\n",
       "      <td>1</td>\n",
       "      <td>1001</td>\n",
       "      <td>50827</td>\n",
       "      <td>693</td>\n",
       "      <td>5</td>\n",
       "      <td>48.00</td>\n",
       "      <td>0</td>\n",
       "      <td>0.0</td>\n",
       "    </tr>\n",
       "    <tr>\n",
       "      <th>2</th>\n",
       "      <td>3</td>\n",
       "      <td>1111</td>\n",
       "      <td>1</td>\n",
       "      <td>1001</td>\n",
       "      <td>50827</td>\n",
       "      <td>1109</td>\n",
       "      <td>21</td>\n",
       "      <td>315.21</td>\n",
       "      <td>0</td>\n",
       "      <td>0.0</td>\n",
       "    </tr>\n",
       "    <tr>\n",
       "      <th>3</th>\n",
       "      <td>3</td>\n",
       "      <td>1111</td>\n",
       "      <td>1</td>\n",
       "      <td>1001</td>\n",
       "      <td>50827</td>\n",
       "      <td>1125</td>\n",
       "      <td>37</td>\n",
       "      <td>355.20</td>\n",
       "      <td>0</td>\n",
       "      <td>0.0</td>\n",
       "    </tr>\n",
       "    <tr>\n",
       "      <th>4</th>\n",
       "      <td>3</td>\n",
       "      <td>1111</td>\n",
       "      <td>1</td>\n",
       "      <td>1001</td>\n",
       "      <td>50827</td>\n",
       "      <td>1129</td>\n",
       "      <td>12</td>\n",
       "      <td>211.20</td>\n",
       "      <td>0</td>\n",
       "      <td>0.0</td>\n",
       "    </tr>\n",
       "  </tbody>\n",
       "</table>\n",
       "</div>"
      ],
      "text/plain": [
       "  week agency channel route client product  sale_units  sale_value  \\\n",
       "0    3   1111       1  1001  50827      73           6      127.92   \n",
       "1    3   1111       1  1001  50827     693           5       48.00   \n",
       "2    3   1111       1  1001  50827    1109          21      315.21   \n",
       "3    3   1111       1  1001  50827    1125          37      355.20   \n",
       "4    3   1111       1  1001  50827    1129          12      211.20   \n",
       "\n",
       "   return_units  return_value  \n",
       "0             0           0.0  \n",
       "1             0           0.0  \n",
       "2             0           0.0  \n",
       "3             0           0.0  \n",
       "4             0           0.0  "
      ]
     },
     "execution_count": 5,
     "metadata": {},
     "output_type": "execute_result"
    }
   ],
   "source": [
    "trans_data.head()"
   ]
  },
  {
   "cell_type": "code",
   "execution_count": 6,
   "metadata": {},
   "outputs": [
    {
     "name": "stdout",
     "output_type": "stream",
     "text": [
      "The total units sold are 35580732 of which 1467288 units are returned over the period of 9 weeks\n",
      "Total value of retured products is 11429498.290000629 which is 2.9109851555489223% of total revenue\n"
     ]
    }
   ],
   "source": [
    "total_sale_units = sum(trans_data['sale_units'])\n",
    "total_sale_value = sum(trans_data['sale_value'])\n",
    "total_return_units = sum(trans_data['return_units'])\n",
    "total_return_value = sum(trans_data['return_value'])\n",
    "\n",
    "print('The total units sold are {} of which {} units are returned over the period of 9 weeks'\n",
    "      .format(total_sale_units, total_return_units))\n",
    "print('Total value of retured products is {} which is {}% of total revenue'\n",
    "      .format(total_return_value, (total_return_value * 100 / total_sale_value)))"
   ]
  },
  {
   "cell_type": "raw",
   "metadata": {},
   "source": [
    "The total vale of returns are about 11 million Mexican Pesos for just 9 weeks of sales\n",
    "This is a big problem for the company\n",
    "\n",
    "Since breads have 1 week of shelf life, it is important to deliver them to the clients in time\n",
    "If these products are not delivered in time, the products would relatively have reduced shelf life\n",
    "when they get to the retail shelves which would cause more returns for expired products\n",
    "\n",
    "Another reason for these returns can be over ordering where the sales persons are incorrectly forecasting demand\n",
    "\n",
    "There might be some products which are not performing well and the company is continuing to make that product\n",
    "\n",
    "In all these cases, there are huge costs for these returns, which includes but not limited to \n",
    "--> cost of transportation (for both deliver and return)\n",
    "--> cost of the products\n",
    "--> cost of disposing thses products\n",
    "--> increase load on transporation capacities\n",
    "\n",
    "we now try to figure out what factors might lead to these returns"
   ]
  },
  {
   "cell_type": "raw",
   "metadata": {},
   "source": [
    "since multilpe routes = sales depot i.e. an agency has multiple routes with which it can serve its clients,\n",
    "these routes serve as constrained resources which might be a reason for untimely delivery of products\n",
    "we now try to analyse the usage of these routes and check if we have a bottle neck"
   ]
  },
  {
   "cell_type": "code",
   "execution_count": 7,
   "metadata": {},
   "outputs": [
    {
     "data": {
      "text/html": [
       "<div>\n",
       "<style scoped>\n",
       "    .dataframe tbody tr th:only-of-type {\n",
       "        vertical-align: middle;\n",
       "    }\n",
       "\n",
       "    .dataframe tbody tr th {\n",
       "        vertical-align: top;\n",
       "    }\n",
       "\n",
       "    .dataframe thead th {\n",
       "        text-align: right;\n",
       "    }\n",
       "</style>\n",
       "<table border=\"1\" class=\"dataframe\">\n",
       "  <thead>\n",
       "    <tr style=\"text-align: right;\">\n",
       "      <th></th>\n",
       "      <th>route</th>\n",
       "      <th>sale_units</th>\n",
       "      <th>sale_value</th>\n",
       "      <th>return_units</th>\n",
       "      <th>return_value</th>\n",
       "    </tr>\n",
       "  </thead>\n",
       "  <tbody>\n",
       "    <tr>\n",
       "      <th>0</th>\n",
       "      <td>1</td>\n",
       "      <td>292239</td>\n",
       "      <td>4877877.43</td>\n",
       "      <td>2076</td>\n",
       "      <td>30737.60</td>\n",
       "    </tr>\n",
       "    <tr>\n",
       "      <th>1</th>\n",
       "      <td>10</td>\n",
       "      <td>60591</td>\n",
       "      <td>966843.75</td>\n",
       "      <td>13</td>\n",
       "      <td>272.61</td>\n",
       "    </tr>\n",
       "    <tr>\n",
       "      <th>2</th>\n",
       "      <td>100</td>\n",
       "      <td>43408</td>\n",
       "      <td>772131.36</td>\n",
       "      <td>0</td>\n",
       "      <td>0.00</td>\n",
       "    </tr>\n",
       "    <tr>\n",
       "      <th>3</th>\n",
       "      <td>1001</td>\n",
       "      <td>82814</td>\n",
       "      <td>1346459.31</td>\n",
       "      <td>126</td>\n",
       "      <td>2053.59</td>\n",
       "    </tr>\n",
       "    <tr>\n",
       "      <th>4</th>\n",
       "      <td>1002</td>\n",
       "      <td>32040</td>\n",
       "      <td>486980.46</td>\n",
       "      <td>96</td>\n",
       "      <td>1344.35</td>\n",
       "    </tr>\n",
       "  </tbody>\n",
       "</table>\n",
       "</div>"
      ],
      "text/plain": [
       "  route  sale_units  sale_value  return_units  return_value\n",
       "0     1      292239  4877877.43          2076      30737.60\n",
       "1    10       60591   966843.75            13        272.61\n",
       "2   100       43408   772131.36             0          0.00\n",
       "3  1001       82814  1346459.31           126       2053.59\n",
       "4  1002       32040   486980.46            96       1344.35"
      ]
     },
     "execution_count": 7,
     "metadata": {},
     "output_type": "execute_result"
    }
   ],
   "source": [
    "route_wise_summary = trans_data.groupby(['route']).sum().reset_index()\n",
    "route_wise_summary.head()"
   ]
  },
  {
   "cell_type": "code",
   "execution_count": 8,
   "metadata": {},
   "outputs": [
    {
     "name": "stderr",
     "output_type": "stream",
     "text": [
      "No handles with labels found to put in legend.\n"
     ]
    },
    {
     "data": {
      "image/png": "[encoded data removed]",
      "text/plain": [
       "<Figure size 432x288 with 1 Axes>"
      ]
     },
     "metadata": {
      "needs_background": "light"
     },
     "output_type": "display_data"
    }
   ],
   "source": [
    "x = [i*100/sum(route_wise_summary['sale_units']) for i in route_wise_summary['sale_units']]  # normalising sales\n",
    "y = [i*100/sum(route_wise_summary['return_units']) for i in route_wise_summary['return_units']] # normalising returns\n",
    "# z = route_wise_summary['agency_count'] # list of count of agencies using routes\n",
    " \n",
    "# plt.scatter(x, y, s=z*50, alpha=0.4, edgecolors=\"grey\", linewidth=2)\n",
    "plt.scatter(x, y, alpha=0.4, edgecolors=\"grey\", linewidth=2)\n",
    " \n",
    "plt.xlabel(\"Percent of Total Sales\")\n",
    "plt.ylabel(\"Percent of Total Returns\")\n",
    "plt.title(\"Sales vs Reurns for all Routes \")\n",
    "plt.legend()\n",
    "plt.show()"
   ]
  },
  {
   "cell_type": "code",
   "execution_count": 9,
   "metadata": {},
   "outputs": [
    {
     "name": "stdout",
     "output_type": "stream",
     "text": [
      "routes - ['3001', '3002', '3003', '3007', '3004', '3005', '3006', '3008', '3010', '3009'] contribute to a total of 75.10556891353299% of total returns\n"
     ]
    }
   ],
   "source": [
    "# we can clearly see that our top 10 revenue genrating routes also tend to contribute to most of our returns\n",
    "# we can also see one route that one route is contributing more that 25% of total returns\n",
    "# we now try to look into the data for any abmnormalities if present\n",
    "# for this, we can first sort the route_wise_summary dataframe and see the top returning routes\n",
    "# and then use our original transaction data to check for any abnormal transactions for those routes\n",
    "top_10_routes = route_wise_summary.sort_values(by=['return_units'], ascending = False).head(10)\n",
    "returns = sum(top_10_routes['return_units'])/sum(route_wise_summary['return_units']) * 100\n",
    "route_list = list(top_10_routes['route'])\n",
    "print( 'routes - {} contribute to a total of {}% of total returns'.format(route_list, returns))"
   ]
  },
  {
   "cell_type": "code",
   "execution_count": 10,
   "metadata": {
    "scrolled": true
   },
   "outputs": [
    {
     "data": {
      "image/png": "[encoded data removed]",
      "text/plain": [
       "<Figure size 432x288 with 1 Axes>"
      ]
     },
     "metadata": {
      "needs_background": "light"
     },
     "output_type": "display_data"
    }
   ],
   "source": [
    "# Now we try to analyse the transactions for these routes one by one to check for abnormalities\n",
    "\n",
    "bxplots = []\n",
    "for route in route_list:\n",
    "    bxplots.append(list(trans_data.loc[trans_data['route'] == route]['return_units']))\n",
    "    \n",
    "plt.boxplot(bxplots)\n",
    "plt.show()"
   ]
  },
  {
   "cell_type": "code",
   "execution_count": 11,
   "metadata": {},
   "outputs": [
    {
     "data": {
      "text/html": [
       "<div>\n",
       "<style scoped>\n",
       "    .dataframe tbody tr th:only-of-type {\n",
       "        vertical-align: middle;\n",
       "    }\n",
       "\n",
       "    .dataframe tbody tr th {\n",
       "        vertical-align: top;\n",
       "    }\n",
       "\n",
       "    .dataframe thead th {\n",
       "        text-align: right;\n",
       "    }\n",
       "</style>\n",
       "<table border=\"1\" class=\"dataframe\">\n",
       "  <thead>\n",
       "    <tr style=\"text-align: right;\">\n",
       "      <th></th>\n",
       "      <th>week</th>\n",
       "      <th>agency</th>\n",
       "      <th>channel</th>\n",
       "      <th>route</th>\n",
       "      <th>client</th>\n",
       "      <th>product</th>\n",
       "      <th>sale_units</th>\n",
       "      <th>sale_value</th>\n",
       "      <th>return_units</th>\n",
       "      <th>return_value</th>\n",
       "    </tr>\n",
       "  </thead>\n",
       "  <tbody>\n",
       "    <tr>\n",
       "      <th>427689</th>\n",
       "      <td>9</td>\n",
       "      <td>1255</td>\n",
       "      <td>5</td>\n",
       "      <td>3001</td>\n",
       "      <td>653378</td>\n",
       "      <td>3509</td>\n",
       "      <td>0</td>\n",
       "      <td>0.00</td>\n",
       "      <td>250000</td>\n",
       "      <td>2500.00</td>\n",
       "    </tr>\n",
       "    <tr>\n",
       "      <th>112153</th>\n",
       "      <td>4</td>\n",
       "      <td>1974</td>\n",
       "      <td>5</td>\n",
       "      <td>3001</td>\n",
       "      <td>653378</td>\n",
       "      <td>43230</td>\n",
       "      <td>3170</td>\n",
       "      <td>23489.70</td>\n",
       "      <td>845</td>\n",
       "      <td>6261.45</td>\n",
       "    </tr>\n",
       "    <tr>\n",
       "      <th>112150</th>\n",
       "      <td>4</td>\n",
       "      <td>1974</td>\n",
       "      <td>5</td>\n",
       "      <td>3001</td>\n",
       "      <td>653378</td>\n",
       "      <td>43070</td>\n",
       "      <td>1367</td>\n",
       "      <td>8858.16</td>\n",
       "      <td>807</td>\n",
       "      <td>5229.36</td>\n",
       "    </tr>\n",
       "    <tr>\n",
       "      <th>309395</th>\n",
       "      <td>7</td>\n",
       "      <td>1915</td>\n",
       "      <td>5</td>\n",
       "      <td>3001</td>\n",
       "      <td>652850</td>\n",
       "      <td>34389</td>\n",
       "      <td>0</td>\n",
       "      <td>0.00</td>\n",
       "      <td>766</td>\n",
       "      <td>7093.16</td>\n",
       "    </tr>\n",
       "    <tr>\n",
       "      <th>47692</th>\n",
       "      <td>3</td>\n",
       "      <td>1991</td>\n",
       "      <td>5</td>\n",
       "      <td>3001</td>\n",
       "      <td>653378</td>\n",
       "      <td>30008</td>\n",
       "      <td>1068</td>\n",
       "      <td>9889.68</td>\n",
       "      <td>608</td>\n",
       "      <td>5630.08</td>\n",
       "    </tr>\n",
       "  </tbody>\n",
       "</table>\n",
       "</div>"
      ],
      "text/plain": [
       "       week agency channel route  client product  sale_units  sale_value  \\\n",
       "427689    9   1255       5  3001  653378    3509           0        0.00   \n",
       "112153    4   1974       5  3001  653378   43230        3170    23489.70   \n",
       "112150    4   1974       5  3001  653378   43070        1367     8858.16   \n",
       "309395    7   1915       5  3001  652850   34389           0        0.00   \n",
       "47692     3   1991       5  3001  653378   30008        1068     9889.68   \n",
       "\n",
       "        return_units  return_value  \n",
       "427689        250000       2500.00  \n",
       "112153           845       6261.45  \n",
       "112150           807       5229.36  \n",
       "309395           766       7093.16  \n",
       "47692            608       5630.08  "
      ]
     },
     "execution_count": 11,
     "metadata": {},
     "output_type": "execute_result"
    }
   ],
   "source": [
    "# we can see that there is certainly an outlier for route 3001 which is leading to large number of returns\n",
    "# to find this outier, we filter and sort the data for route 3001 to find any agency or client contributing to this return\n",
    "data_3001 = trans_data.loc[trans_data['route'] == '3001']\n",
    "data_3001.sort_values(by=['return_units'], ascending = False).head()"
   ]
  },
  {
   "cell_type": "code",
   "execution_count": 12,
   "metadata": {},
   "outputs": [
    {
     "data": {
      "text/html": [
       "<div>\n",
       "<style scoped>\n",
       "    .dataframe tbody tr th:only-of-type {\n",
       "        vertical-align: middle;\n",
       "    }\n",
       "\n",
       "    .dataframe tbody tr th {\n",
       "        vertical-align: top;\n",
       "    }\n",
       "\n",
       "    .dataframe thead th {\n",
       "        text-align: right;\n",
       "    }\n",
       "</style>\n",
       "<table border=\"1\" class=\"dataframe\">\n",
       "  <thead>\n",
       "    <tr style=\"text-align: right;\">\n",
       "      <th></th>\n",
       "      <th>product</th>\n",
       "      <th>return_units3</th>\n",
       "      <th>return_units4</th>\n",
       "      <th>return_units5</th>\n",
       "      <th>return_units6</th>\n",
       "      <th>return_units7</th>\n",
       "      <th>return_units8</th>\n",
       "      <th>return_units9</th>\n",
       "      <th>sale_units3</th>\n",
       "      <th>sale_units4</th>\n",
       "      <th>sale_units5</th>\n",
       "      <th>sale_units6</th>\n",
       "      <th>sale_units7</th>\n",
       "      <th>sale_units8</th>\n",
       "      <th>sale_units9</th>\n",
       "    </tr>\n",
       "  </thead>\n",
       "  <tbody>\n",
       "    <tr>\n",
       "      <th>0</th>\n",
       "      <td>1216</td>\n",
       "      <td>154.0</td>\n",
       "      <td>80.0</td>\n",
       "      <td>63.0</td>\n",
       "      <td>146.0</td>\n",
       "      <td>169.0</td>\n",
       "      <td>177.0</td>\n",
       "      <td>135.0</td>\n",
       "      <td>462.0</td>\n",
       "      <td>560.0</td>\n",
       "      <td>588.0</td>\n",
       "      <td>573.0</td>\n",
       "      <td>534.0</td>\n",
       "      <td>564.0</td>\n",
       "      <td>518.0</td>\n",
       "    </tr>\n",
       "    <tr>\n",
       "      <th>1</th>\n",
       "      <td>1220</td>\n",
       "      <td>346.0</td>\n",
       "      <td>636.0</td>\n",
       "      <td>216.0</td>\n",
       "      <td>394.0</td>\n",
       "      <td>379.0</td>\n",
       "      <td>474.0</td>\n",
       "      <td>549.0</td>\n",
       "      <td>7346.0</td>\n",
       "      <td>7524.0</td>\n",
       "      <td>8440.0</td>\n",
       "      <td>7572.0</td>\n",
       "      <td>8453.0</td>\n",
       "      <td>8082.0</td>\n",
       "      <td>6325.0</td>\n",
       "    </tr>\n",
       "    <tr>\n",
       "      <th>2</th>\n",
       "      <td>1240</td>\n",
       "      <td>4746.0</td>\n",
       "      <td>5876.0</td>\n",
       "      <td>6191.0</td>\n",
       "      <td>7608.0</td>\n",
       "      <td>7014.0</td>\n",
       "      <td>7234.0</td>\n",
       "      <td>5900.0</td>\n",
       "      <td>75032.0</td>\n",
       "      <td>73035.0</td>\n",
       "      <td>71170.0</td>\n",
       "      <td>62682.0</td>\n",
       "      <td>66684.0</td>\n",
       "      <td>61267.0</td>\n",
       "      <td>58966.0</td>\n",
       "    </tr>\n",
       "    <tr>\n",
       "      <th>3</th>\n",
       "      <td>1242</td>\n",
       "      <td>475.0</td>\n",
       "      <td>322.0</td>\n",
       "      <td>264.0</td>\n",
       "      <td>362.0</td>\n",
       "      <td>277.0</td>\n",
       "      <td>372.0</td>\n",
       "      <td>268.0</td>\n",
       "      <td>3579.0</td>\n",
       "      <td>3774.0</td>\n",
       "      <td>3710.0</td>\n",
       "      <td>2964.0</td>\n",
       "      <td>2401.0</td>\n",
       "      <td>1907.0</td>\n",
       "      <td>1765.0</td>\n",
       "    </tr>\n",
       "    <tr>\n",
       "      <th>4</th>\n",
       "      <td>1250</td>\n",
       "      <td>5364.0</td>\n",
       "      <td>5304.0</td>\n",
       "      <td>4773.0</td>\n",
       "      <td>5296.0</td>\n",
       "      <td>5432.0</td>\n",
       "      <td>5250.0</td>\n",
       "      <td>5313.0</td>\n",
       "      <td>97901.0</td>\n",
       "      <td>104321.0</td>\n",
       "      <td>106826.0</td>\n",
       "      <td>95712.0</td>\n",
       "      <td>101320.0</td>\n",
       "      <td>98093.0</td>\n",
       "      <td>94288.0</td>\n",
       "    </tr>\n",
       "  </tbody>\n",
       "</table>\n",
       "</div>"
      ],
      "text/plain": [
       "  product  return_units3  return_units4  return_units5  return_units6  \\\n",
       "0    1216          154.0           80.0           63.0          146.0   \n",
       "1    1220          346.0          636.0          216.0          394.0   \n",
       "2    1240         4746.0         5876.0         6191.0         7608.0   \n",
       "3    1242          475.0          322.0          264.0          362.0   \n",
       "4    1250         5364.0         5304.0         4773.0         5296.0   \n",
       "\n",
       "   return_units7  return_units8  return_units9  sale_units3  sale_units4  \\\n",
       "0          169.0          177.0          135.0        462.0        560.0   \n",
       "1          379.0          474.0          549.0       7346.0       7524.0   \n",
       "2         7014.0         7234.0         5900.0      75032.0      73035.0   \n",
       "3          277.0          372.0          268.0       3579.0       3774.0   \n",
       "4         5432.0         5250.0         5313.0      97901.0     104321.0   \n",
       "\n",
       "   sale_units5  sale_units6  sale_units7  sale_units8  sale_units9  \n",
       "0        588.0        573.0        534.0        564.0        518.0  \n",
       "1       8440.0       7572.0       8453.0       8082.0       6325.0  \n",
       "2      71170.0      62682.0      66684.0      61267.0      58966.0  \n",
       "3       3710.0       2964.0       2401.0       1907.0       1765.0  \n",
       "4     106826.0      95712.0     101320.0      98093.0      94288.0  "
      ]
     },
     "execution_count": 12,
     "metadata": {},
     "output_type": "execute_result"
    }
   ],
   "source": [
    "# The top transaction for lient 653378 in week 9 shows 250000 units returned with a value 2500 which is wierd\n",
    "# We now try to narrow down to the client's weekly transactions to know more about this return entry\n",
    "temp_df = trans_data.loc[trans_data['client'] == '653378']\n",
    "weekly_trans = pd.pivot_table(temp_df, values=['sale_units', 'return_units'], index='product',\n",
    "                              columns = 'week', aggfunc='sum')\n",
    "weekly_trans.columns =[s1 + str(s2) for (s1,s2) in weekly_trans.columns.tolist()]\n",
    "weekly_trans.reset_index(inplace=True)\n",
    "weekly_trans.head()"
   ]
  },
  {
   "cell_type": "code",
   "execution_count": 13,
   "metadata": {},
   "outputs": [
    {
     "data": {
      "text/html": [
       "<div>\n",
       "<style scoped>\n",
       "    .dataframe tbody tr th:only-of-type {\n",
       "        vertical-align: middle;\n",
       "    }\n",
       "\n",
       "    .dataframe tbody tr th {\n",
       "        vertical-align: top;\n",
       "    }\n",
       "\n",
       "    .dataframe thead th {\n",
       "        text-align: right;\n",
       "    }\n",
       "</style>\n",
       "<table border=\"1\" class=\"dataframe\">\n",
       "  <thead>\n",
       "    <tr style=\"text-align: right;\">\n",
       "      <th></th>\n",
       "      <th>product</th>\n",
       "      <th>return_units3</th>\n",
       "      <th>return_units4</th>\n",
       "      <th>return_units5</th>\n",
       "      <th>return_units6</th>\n",
       "      <th>return_units7</th>\n",
       "      <th>return_units8</th>\n",
       "      <th>return_units9</th>\n",
       "      <th>sale_units3</th>\n",
       "      <th>sale_units4</th>\n",
       "      <th>sale_units5</th>\n",
       "      <th>sale_units6</th>\n",
       "      <th>sale_units7</th>\n",
       "      <th>sale_units8</th>\n",
       "      <th>sale_units9</th>\n",
       "    </tr>\n",
       "  </thead>\n",
       "  <tbody>\n",
       "    <tr>\n",
       "      <th>92</th>\n",
       "      <td>3509</td>\n",
       "      <td>NaN</td>\n",
       "      <td>NaN</td>\n",
       "      <td>NaN</td>\n",
       "      <td>NaN</td>\n",
       "      <td>NaN</td>\n",
       "      <td>NaN</td>\n",
       "      <td>250000.0</td>\n",
       "      <td>NaN</td>\n",
       "      <td>NaN</td>\n",
       "      <td>NaN</td>\n",
       "      <td>NaN</td>\n",
       "      <td>NaN</td>\n",
       "      <td>NaN</td>\n",
       "      <td>0.0</td>\n",
       "    </tr>\n",
       "    <tr>\n",
       "      <th>2</th>\n",
       "      <td>1240</td>\n",
       "      <td>4746.0</td>\n",
       "      <td>5876.0</td>\n",
       "      <td>6191.0</td>\n",
       "      <td>7608.0</td>\n",
       "      <td>7014.0</td>\n",
       "      <td>7234.0</td>\n",
       "      <td>5900.0</td>\n",
       "      <td>75032.0</td>\n",
       "      <td>73035.0</td>\n",
       "      <td>71170.0</td>\n",
       "      <td>62682.0</td>\n",
       "      <td>66684.0</td>\n",
       "      <td>61267.0</td>\n",
       "      <td>58966.0</td>\n",
       "    </tr>\n",
       "    <tr>\n",
       "      <th>4</th>\n",
       "      <td>1250</td>\n",
       "      <td>5364.0</td>\n",
       "      <td>5304.0</td>\n",
       "      <td>4773.0</td>\n",
       "      <td>5296.0</td>\n",
       "      <td>5432.0</td>\n",
       "      <td>5250.0</td>\n",
       "      <td>5313.0</td>\n",
       "      <td>97901.0</td>\n",
       "      <td>104321.0</td>\n",
       "      <td>106826.0</td>\n",
       "      <td>95712.0</td>\n",
       "      <td>101320.0</td>\n",
       "      <td>98093.0</td>\n",
       "      <td>94288.0</td>\n",
       "    </tr>\n",
       "    <tr>\n",
       "      <th>9</th>\n",
       "      <td>2261</td>\n",
       "      <td>1111.0</td>\n",
       "      <td>777.0</td>\n",
       "      <td>436.0</td>\n",
       "      <td>715.0</td>\n",
       "      <td>2831.0</td>\n",
       "      <td>3433.0</td>\n",
       "      <td>4550.0</td>\n",
       "      <td>21911.0</td>\n",
       "      <td>23782.0</td>\n",
       "      <td>25828.0</td>\n",
       "      <td>26386.0</td>\n",
       "      <td>30831.0</td>\n",
       "      <td>29648.0</td>\n",
       "      <td>26961.0</td>\n",
       "    </tr>\n",
       "    <tr>\n",
       "      <th>163</th>\n",
       "      <td>45449</td>\n",
       "      <td>3258.0</td>\n",
       "      <td>3879.0</td>\n",
       "      <td>3020.0</td>\n",
       "      <td>4016.0</td>\n",
       "      <td>3576.0</td>\n",
       "      <td>4067.0</td>\n",
       "      <td>3863.0</td>\n",
       "      <td>51208.0</td>\n",
       "      <td>51249.0</td>\n",
       "      <td>50805.0</td>\n",
       "      <td>47000.0</td>\n",
       "      <td>49324.0</td>\n",
       "      <td>49142.0</td>\n",
       "      <td>51226.0</td>\n",
       "    </tr>\n",
       "  </tbody>\n",
       "</table>\n",
       "</div>"
      ],
      "text/plain": [
       "    product  return_units3  return_units4  return_units5  return_units6  \\\n",
       "92     3509            NaN            NaN            NaN            NaN   \n",
       "2      1240         4746.0         5876.0         6191.0         7608.0   \n",
       "4      1250         5364.0         5304.0         4773.0         5296.0   \n",
       "9      2261         1111.0          777.0          436.0          715.0   \n",
       "163   45449         3258.0         3879.0         3020.0         4016.0   \n",
       "\n",
       "     return_units7  return_units8  return_units9  sale_units3  sale_units4  \\\n",
       "92             NaN            NaN       250000.0          NaN          NaN   \n",
       "2           7014.0         7234.0         5900.0      75032.0      73035.0   \n",
       "4           5432.0         5250.0         5313.0      97901.0     104321.0   \n",
       "9           2831.0         3433.0         4550.0      21911.0      23782.0   \n",
       "163         3576.0         4067.0         3863.0      51208.0      51249.0   \n",
       "\n",
       "     sale_units5  sale_units6  sale_units7  sale_units8  sale_units9  \n",
       "92           NaN          NaN          NaN          NaN          0.0  \n",
       "2        71170.0      62682.0      66684.0      61267.0      58966.0  \n",
       "4       106826.0      95712.0     101320.0      98093.0      94288.0  \n",
       "9        25828.0      26386.0      30831.0      29648.0      26961.0  \n",
       "163      50805.0      47000.0      49324.0      49142.0      51226.0  "
      ]
     },
     "execution_count": 13,
     "metadata": {},
     "output_type": "execute_result"
    }
   ],
   "source": [
    "weekly_trans.sort_values(by = ['return_units9'], ascending = False).head()"
   ]
  },
  {
   "cell_type": "code",
   "execution_count": 14,
   "metadata": {},
   "outputs": [
    {
     "data": {
      "text/plain": [
       "product            3509\n",
       "return_units3       NaN\n",
       "return_units4       NaN\n",
       "return_units5       NaN\n",
       "return_units6       NaN\n",
       "return_units7       NaN\n",
       "return_units8       NaN\n",
       "return_units9    250000\n",
       "sale_units3         NaN\n",
       "sale_units4         NaN\n",
       "sale_units5         NaN\n",
       "sale_units6         NaN\n",
       "sale_units7         NaN\n",
       "sale_units8         NaN\n",
       "sale_units9           0\n",
       "Name: 92, dtype: object"
      ]
     },
     "execution_count": 14,
     "metadata": {},
     "output_type": "execute_result"
    }
   ],
   "source": [
    "weekly_trans.loc[92]"
   ]
  },
  {
   "cell_type": "code",
   "execution_count": 15,
   "metadata": {},
   "outputs": [
    {
     "data": {
      "text/html": [
       "<div>\n",
       "<style scoped>\n",
       "    .dataframe tbody tr th:only-of-type {\n",
       "        vertical-align: middle;\n",
       "    }\n",
       "\n",
       "    .dataframe tbody tr th {\n",
       "        vertical-align: top;\n",
       "    }\n",
       "\n",
       "    .dataframe thead th {\n",
       "        text-align: right;\n",
       "    }\n",
       "</style>\n",
       "<table border=\"1\" class=\"dataframe\">\n",
       "  <thead>\n",
       "    <tr style=\"text-align: right;\">\n",
       "      <th></th>\n",
       "      <th>route</th>\n",
       "      <th>sale_units</th>\n",
       "      <th>sale_value</th>\n",
       "      <th>return_units</th>\n",
       "      <th>return_value</th>\n",
       "    </tr>\n",
       "  </thead>\n",
       "  <tbody>\n",
       "    <tr>\n",
       "      <th>465</th>\n",
       "      <td>3001</td>\n",
       "      <td>2481363</td>\n",
       "      <td>20542634.58</td>\n",
       "      <td>399329</td>\n",
       "      <td>1245663.11</td>\n",
       "    </tr>\n",
       "  </tbody>\n",
       "</table>\n",
       "</div>"
      ],
      "text/plain": [
       "    route  sale_units   sale_value  return_units  return_value\n",
       "465  3001     2481363  20542634.58        399329    1245663.11"
      ]
     },
     "execution_count": 15,
     "metadata": {},
     "output_type": "execute_result"
    }
   ],
   "source": [
    "# we can see there are no sale transactons for product 3509 for cient 653378 for the given data for weeks 3 - 9\n",
    "# Hence we assume that this is a wrong data entry and we can exclude it from oour data for further analysis\n",
    "# we can subtract 250000 from return_units for route 3001 in our route_data_summary and visualize again\n",
    "route_wise_summary.loc[route_wise_summary['route'] == '3001']"
   ]
  },
  {
   "cell_type": "code",
   "execution_count": 16,
   "metadata": {},
   "outputs": [],
   "source": [
    "current_value = route_wise_summary.at[465,'return_units']\n",
    "route_wise_summary.at[465,'return_units'] = current_value - 250000"
   ]
  },
  {
   "cell_type": "code",
   "execution_count": 17,
   "metadata": {
    "scrolled": true
   },
   "outputs": [
    {
     "name": "stderr",
     "output_type": "stream",
     "text": [
      "No handles with labels found to put in legend.\n"
     ]
    },
    {
     "data": {
      "image/png": "[encoded data removed]",
      "text/plain": [
       "<Figure size 432x288 with 1 Axes>"
      ]
     },
     "metadata": {
      "needs_background": "light"
     },
     "output_type": "display_data"
    }
   ],
   "source": [
    "x = [i*100/sum(route_wise_summary['sale_units']) for i in route_wise_summary['sale_units']]  # normalising sales\n",
    "y = [i*100/sum(route_wise_summary['return_units']) for i in route_wise_summary['return_units']] # normalising returns\n",
    "# z = route_wise_summary['agency_count'] # list of count of agencies using routes\n",
    " \n",
    "# plt.scatter(x, y, s=z*50, alpha=0.4, edgecolors=\"grey\", linewidth=2)\n",
    "plt.scatter(x, y, alpha=0.4, edgecolors=\"grey\", linewidth=2)\n",
    " \n",
    "plt.xlabel(\"Percent of Total Sales\")\n",
    "plt.ylabel(\"Percent of Total Returns\")\n",
    "plt.title(\"Sales vs Reurns for all Routes \")\n",
    "plt.legend()\n",
    "plt.show()"
   ]
  },
  {
   "cell_type": "code",
   "execution_count": 18,
   "metadata": {},
   "outputs": [
    {
     "data": {
      "text/html": [
       "<div>\n",
       "<style scoped>\n",
       "    .dataframe tbody tr th:only-of-type {\n",
       "        vertical-align: middle;\n",
       "    }\n",
       "\n",
       "    .dataframe tbody tr th {\n",
       "        vertical-align: top;\n",
       "    }\n",
       "\n",
       "    .dataframe thead th {\n",
       "        text-align: right;\n",
       "    }\n",
       "</style>\n",
       "<table border=\"1\" class=\"dataframe\">\n",
       "  <thead>\n",
       "    <tr style=\"text-align: right;\">\n",
       "      <th></th>\n",
       "      <th>week</th>\n",
       "      <th>agency</th>\n",
       "      <th>channel</th>\n",
       "      <th>route</th>\n",
       "      <th>client</th>\n",
       "      <th>product</th>\n",
       "      <th>sale_units</th>\n",
       "      <th>sale_value</th>\n",
       "      <th>return_units</th>\n",
       "      <th>return_value</th>\n",
       "    </tr>\n",
       "  </thead>\n",
       "  <tbody>\n",
       "    <tr>\n",
       "      <th>427689</th>\n",
       "      <td>9</td>\n",
       "      <td>1255</td>\n",
       "      <td>5</td>\n",
       "      <td>3001</td>\n",
       "      <td>653378</td>\n",
       "      <td>3509</td>\n",
       "      <td>0</td>\n",
       "      <td>0.00</td>\n",
       "      <td>250000</td>\n",
       "      <td>2500.00</td>\n",
       "    </tr>\n",
       "    <tr>\n",
       "      <th>162769</th>\n",
       "      <td>5</td>\n",
       "      <td>1250</td>\n",
       "      <td>5</td>\n",
       "      <td>3007</td>\n",
       "      <td>653378</td>\n",
       "      <td>45296</td>\n",
       "      <td>161</td>\n",
       "      <td>1610.00</td>\n",
       "      <td>1740</td>\n",
       "      <td>17400.00</td>\n",
       "    </tr>\n",
       "    <tr>\n",
       "      <th>112096</th>\n",
       "      <td>4</td>\n",
       "      <td>1915</td>\n",
       "      <td>5</td>\n",
       "      <td>3010</td>\n",
       "      <td>652850</td>\n",
       "      <td>34389</td>\n",
       "      <td>25</td>\n",
       "      <td>231.50</td>\n",
       "      <td>1588</td>\n",
       "      <td>14704.88</td>\n",
       "    </tr>\n",
       "    <tr>\n",
       "      <th>309728</th>\n",
       "      <td>7</td>\n",
       "      <td>1915</td>\n",
       "      <td>5</td>\n",
       "      <td>3010</td>\n",
       "      <td>652850</td>\n",
       "      <td>34389</td>\n",
       "      <td>576</td>\n",
       "      <td>5333.76</td>\n",
       "      <td>1478</td>\n",
       "      <td>13686.28</td>\n",
       "    </tr>\n",
       "    <tr>\n",
       "      <th>378999</th>\n",
       "      <td>8</td>\n",
       "      <td>1997</td>\n",
       "      <td>5</td>\n",
       "      <td>3048</td>\n",
       "      <td>653378</td>\n",
       "      <td>7814</td>\n",
       "      <td>110</td>\n",
       "      <td>916.30</td>\n",
       "      <td>1389</td>\n",
       "      <td>11570.37</td>\n",
       "    </tr>\n",
       "  </tbody>\n",
       "</table>\n",
       "</div>"
      ],
      "text/plain": [
       "       week agency channel route  client product  sale_units  sale_value  \\\n",
       "427689    9   1255       5  3001  653378    3509           0        0.00   \n",
       "162769    5   1250       5  3007  653378   45296         161     1610.00   \n",
       "112096    4   1915       5  3010  652850   34389          25      231.50   \n",
       "309728    7   1915       5  3010  652850   34389         576     5333.76   \n",
       "378999    8   1997       5  3048  653378    7814         110      916.30   \n",
       "\n",
       "        return_units  return_value  \n",
       "427689        250000       2500.00  \n",
       "162769          1740      17400.00  \n",
       "112096          1588      14704.88  \n",
       "309728          1478      13686.28  \n",
       "378999          1389      11570.37  "
      ]
     },
     "execution_count": 18,
     "metadata": {},
     "output_type": "execute_result"
    }
   ],
   "source": [
    "# We also drop this entry from our original transaction data\n",
    "trans_data.sort_values(by=['return_units'], ascending = False).head()"
   ]
  },
  {
   "cell_type": "code",
   "execution_count": 19,
   "metadata": {},
   "outputs": [],
   "source": [
    "trans_data = trans_data.drop([427689])"
   ]
  },
  {
   "cell_type": "code",
   "execution_count": 20,
   "metadata": {
    "scrolled": true
   },
   "outputs": [
    {
     "data": {
      "image/png": "[encoded data removed]",
      "text/plain": [
       "<Figure size 432x288 with 1 Axes>"
      ]
     },
     "metadata": {
      "needs_background": "light"
     },
     "output_type": "display_data"
    }
   ],
   "source": [
    "# Now we can check the box plots again for route wise return transactions \n",
    "bxplots = []\n",
    "for route in route_list:\n",
    "    bxplots.append(list(trans_data.loc[trans_data['route'] == route]['return_units']))\n",
    "    \n",
    "plt.boxplot(bxplots)\n",
    "plt.show()"
   ]
  },
  {
   "cell_type": "code",
   "execution_count": 21,
   "metadata": {},
   "outputs": [
    {
     "name": "stdout",
     "output_type": "stream",
     "text": [
      "routes - ['3001', '3002', '3003', '3007', '3004', '3005', '3006', '3008', '3010', '3009'] contribute to a total of 69.99288582488286% of total returns\n"
     ]
    }
   ],
   "source": [
    "# the max returns for any transaction is somewhere around 1750 units which is reasonable\n",
    "# so we can assume there are no more abnrmal entries for transactions\n",
    "# Now we can check how much contribution to the total returns is done by these top 10 routes\n",
    "top_10_routes = route_wise_summary.sort_values(by=['return_units'], ascending = False).head(10)\n",
    "returns = sum(top_10_routes['return_units'])/sum(route_wise_summary['return_units']) * 100\n",
    "route_list = list(top_10_routes['route'])\n",
    "print( 'routes - {} contribute to a total of {}% of total returns'.format(route_list, returns))"
   ]
  },
  {
   "cell_type": "code",
   "execution_count": 22,
   "metadata": {},
   "outputs": [
    {
     "data": {
      "text/plain": [
       "<matplotlib.axes._subplots.AxesSubplot at 0x1ab87511148>"
      ]
     },
     "execution_count": 22,
     "metadata": {},
     "output_type": "execute_result"
    },
    {
     "data": {
      "image/png": "[encoded data removed]",
      "text/plain": [
       "<Figure size 432x288 with 1 Axes>"
      ]
     },
     "metadata": {
      "needs_background": "light"
     },
     "output_type": "display_data"
    }
   ],
   "source": [
    "# Even after removing the outlier, we still have these top 10 routes contributing to 70% of the returns\n",
    "# We can see that these routes are shared between agencies\n",
    "# Hence try to analyse the utility of these routes by agencies\n",
    "\n",
    "route_to_agencies = trans_data[['route','agency']].drop_duplicates()\n",
    "route_usage = dict(route_to_agencies['route'].value_counts())\n",
    "route_to_agencies = pd.DataFrame(([k, v] for k, v in route_usage.items()), columns=['route', 'agency_count'])\n",
    "route_to_agencies.boxplot(['agency_count'])"
   ]
  },
  {
   "cell_type": "raw",
   "metadata": {},
   "source": [
    "we can observe from the boxplot that there are certain routes which are over utilized\n",
    "for the most utilised route, there are as many as 50 agencies using the same route\n",
    "while on average, the avaerge number of agencies using one route is around 2"
   ]
  },
  {
   "cell_type": "raw",
   "metadata": {},
   "source": [
    "we merge this route utility to the route_wise_summary data frame to see if these\n",
    "over utilised routes are also the one which are causing returns"
   ]
  },
  {
   "cell_type": "code",
   "execution_count": 23,
   "metadata": {},
   "outputs": [
    {
     "data": {
      "text/html": [
       "<div>\n",
       "<style scoped>\n",
       "    .dataframe tbody tr th:only-of-type {\n",
       "        vertical-align: middle;\n",
       "    }\n",
       "\n",
       "    .dataframe tbody tr th {\n",
       "        vertical-align: top;\n",
       "    }\n",
       "\n",
       "    .dataframe thead th {\n",
       "        text-align: right;\n",
       "    }\n",
       "</style>\n",
       "<table border=\"1\" class=\"dataframe\">\n",
       "  <thead>\n",
       "    <tr style=\"text-align: right;\">\n",
       "      <th></th>\n",
       "      <th>route</th>\n",
       "      <th>sale_units</th>\n",
       "      <th>sale_value</th>\n",
       "      <th>return_units</th>\n",
       "      <th>return_value</th>\n",
       "      <th>agency_count</th>\n",
       "    </tr>\n",
       "  </thead>\n",
       "  <tbody>\n",
       "    <tr>\n",
       "      <th>0</th>\n",
       "      <td>1</td>\n",
       "      <td>292239</td>\n",
       "      <td>4877877.43</td>\n",
       "      <td>2076</td>\n",
       "      <td>30737.60</td>\n",
       "      <td>4</td>\n",
       "    </tr>\n",
       "    <tr>\n",
       "      <th>1</th>\n",
       "      <td>10</td>\n",
       "      <td>60591</td>\n",
       "      <td>966843.75</td>\n",
       "      <td>13</td>\n",
       "      <td>272.61</td>\n",
       "      <td>1</td>\n",
       "    </tr>\n",
       "    <tr>\n",
       "      <th>2</th>\n",
       "      <td>100</td>\n",
       "      <td>43408</td>\n",
       "      <td>772131.36</td>\n",
       "      <td>0</td>\n",
       "      <td>0.00</td>\n",
       "      <td>1</td>\n",
       "    </tr>\n",
       "    <tr>\n",
       "      <th>3</th>\n",
       "      <td>1001</td>\n",
       "      <td>82814</td>\n",
       "      <td>1346459.31</td>\n",
       "      <td>126</td>\n",
       "      <td>2053.59</td>\n",
       "      <td>13</td>\n",
       "    </tr>\n",
       "    <tr>\n",
       "      <th>4</th>\n",
       "      <td>1002</td>\n",
       "      <td>32040</td>\n",
       "      <td>486980.46</td>\n",
       "      <td>96</td>\n",
       "      <td>1344.35</td>\n",
       "      <td>6</td>\n",
       "    </tr>\n",
       "  </tbody>\n",
       "</table>\n",
       "</div>"
      ],
      "text/plain": [
       "  route  sale_units  sale_value  return_units  return_value  agency_count\n",
       "0     1      292239  4877877.43          2076      30737.60             4\n",
       "1    10       60591   966843.75            13        272.61             1\n",
       "2   100       43408   772131.36             0          0.00             1\n",
       "3  1001       82814  1346459.31           126       2053.59            13\n",
       "4  1002       32040   486980.46            96       1344.35             6"
      ]
     },
     "execution_count": 23,
     "metadata": {},
     "output_type": "execute_result"
    }
   ],
   "source": [
    "route_wise_summary = pd.merge(route_wise_summary, route_to_agencies, on='route')  # joining the dataframe objects\n",
    "route_wise_summary.head()"
   ]
  },
  {
   "cell_type": "code",
   "execution_count": 24,
   "metadata": {},
   "outputs": [
    {
     "name": "stderr",
     "output_type": "stream",
     "text": [
      "No handles with labels found to put in legend.\n"
     ]
    },
    {
     "data": {
      "image/png": "[encoded data removed]",
      "text/plain": [
       "<Figure size 432x288 with 1 Axes>"
      ]
     },
     "metadata": {
      "needs_background": "light"
     },
     "output_type": "display_data"
    }
   ],
   "source": [
    "x = [i*100/sum(route_wise_summary['sale_units']) for i in route_wise_summary['sale_units']]  # normalising sales\n",
    "y = [i*100/sum(route_wise_summary['return_units']) for i in route_wise_summary['return_units']] # normalising returns\n",
    "z = route_wise_summary['agency_count'] # list of count of agencies using routes\n",
    " \n",
    "plt.scatter(x, y, s=z*50, alpha=0.4, edgecolors=\"grey\", linewidth=2)\n",
    " \n",
    "plt.xlabel(\"Percent of Total Sales\")\n",
    "plt.ylabel(\"Percent of Total Returns\")\n",
    "plt.title(\"Sales vs Reurns for all Routes \")\n",
    "plt.legend()\n",
    "plt.show()"
   ]
  },
  {
   "cell_type": "raw",
   "metadata": {},
   "source": [
    "From the above bubble chart, it is clearly seen that the top routes are over used\n",
    "\n",
    "A route here can be assumed as a transortation lane with limited capacity.\n",
    "\n",
    "As most of the sales are also done on these routes, there is only a limited\n",
    "capacity which can be transported each day.\n",
    "\n",
    "This leads to the product being held at the warehouse of the agencies \n",
    "and they are late to reach to the selling shelves which then get expired\n",
    "and are returned\n",
    "\n",
    "Recommeneded Solution - \n",
    "Identify other agencies in the same area which might have other\n",
    "under utilised routes and distribute the load amongst them."
   ]
  },
  {
   "cell_type": "raw",
   "metadata": {},
   "source": [
    "FUTURE SCOPE: \n",
    "\n",
    "To forecast product demand - \n",
    "--> arrange the data to display weekly product wise sales and returns for evety client\n",
    "--> subtract the next weeks returns from the current weeks sales\n",
    "    i.e if x units were ordered in week 3 and y units were returned in week 4,\n",
    "    subtract week 4 returns from week 3 sales\n",
    "--> Doing this we will get the actual sales for the weeks for all procucts and for every client\n",
    "--> Then we can try differnet forecast models. Some of which are-\n",
    "    - Linear regression\n",
    "    - Exponential Smooting\n",
    "    - Holt's model\n",
    "--> We can then select an appropriate fitting model for out data"
   ]
  }
 ],
 "metadata": {
  "kernelspec": {
   "display_name": "Python 3",
   "language": "python",
   "name": "python3"
  },
  "language_info": {
   "codemirror_mode": {
    "name": "ipython",
    "version": 3
   },
   "file_extension": ".py",
   "mimetype": "text/x-python",
   "name": "python",
   "nbconvert_exporter": "python",
   "pygments_lexer": "ipython3",
   "version": "3.7.6"
  }
 },
 "nbformat": 4,
 "nbformat_minor": 4
}
